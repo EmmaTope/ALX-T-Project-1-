{
 "cells": [
  {
   "cell_type": "markdown",
   "id": "d1e92179",
   "metadata": {},
   "source": [
    "# INVESTIGATE A DATASET - \n",
    "# BRASILIAN MEDICAL APPOINTMENTS (NO SHOW)\n",
    "> **Intro**: This is an ALX-T/Udacity Data Analysis Nano Degree project on a Brasialian No-show Medical appointment dataset.\n",
    "Submitted by: Temitope Olaitan - (olaitanturpe@gmail.com)\n",
    "\n",
    "Questions asked in the investigation:\n",
    "\n",
    "What percentage of Female missed their appointment?\n",
    "\n",
    "What percentage of Male missed their appointment?\n",
    "\n",
    "What is the Appointment Status grouped by Gender?\n",
    "\n",
    "What is the percentage of people who has hypertension, diabetes, alcoholism, are handicap, has scholarship, and received sms but didn't show up for the appointment?\n"
   ]
  },
  {
   "cell_type": "markdown",
   "id": "e9141950",
   "metadata": {},
   "source": [
    "#### Since the dataset has been downloaded into my machine and placed into the appropriate directory, I shall go ahead to open it up in my notebook here"
   ]
  },
  {
   "cell_type": "code",
   "execution_count": 1,
   "id": "21b1bc6a",
   "metadata": {},
   "outputs": [],
   "source": [
    "# importing the necessary libraries\n",
    "import pandas as pd\n",
    "import numpy as np\n",
    "import matplotlib.pyplot as plt\n",
    "import seaborn as sb\n",
    "%matplotlib inline"
   ]
  },
  {
   "cell_type": "code",
   "execution_count": 2,
   "id": "2b90652e",
   "metadata": {},
   "outputs": [],
   "source": [
    "# Reading the file with the 'read_csv()' function\n",
    "df=pd.read_csv('noshowappointments-kagglev2-may-2016.csv')"
   ]
  },
  {
   "cell_type": "markdown",
   "id": "6b4dfd30",
   "metadata": {},
   "source": [
    "#### Now I shall use a few commands to get a better understand of what the data looks like"
   ]
  },
  {
   "cell_type": "code",
   "execution_count": 3,
   "id": "172ebf38",
   "metadata": {
    "scrolled": true
   },
   "outputs": [
    {
     "data": {
      "text/html": [
       "<div>\n",
       "<style scoped>\n",
       "    .dataframe tbody tr th:only-of-type {\n",
       "        vertical-align: middle;\n",
       "    }\n",
       "\n",
       "    .dataframe tbody tr th {\n",
       "        vertical-align: top;\n",
       "    }\n",
       "\n",
       "    .dataframe thead th {\n",
       "        text-align: right;\n",
       "    }\n",
       "</style>\n",
       "<table border=\"1\" class=\"dataframe\">\n",
       "  <thead>\n",
       "    <tr style=\"text-align: right;\">\n",
       "      <th></th>\n",
       "      <th>PatientId</th>\n",
       "      <th>AppointmentID</th>\n",
       "      <th>Gender</th>\n",
       "      <th>ScheduledDay</th>\n",
       "      <th>AppointmentDay</th>\n",
       "      <th>Age</th>\n",
       "      <th>Neighbourhood</th>\n",
       "      <th>Scholarship</th>\n",
       "      <th>Hipertension</th>\n",
       "      <th>Diabetes</th>\n",
       "      <th>Alcoholism</th>\n",
       "      <th>Handcap</th>\n",
       "      <th>SMS_received</th>\n",
       "      <th>No-show</th>\n",
       "    </tr>\n",
       "  </thead>\n",
       "  <tbody>\n",
       "    <tr>\n",
       "      <th>0</th>\n",
       "      <td>2.987250e+13</td>\n",
       "      <td>5642903</td>\n",
       "      <td>F</td>\n",
       "      <td>2016-04-29T18:38:08Z</td>\n",
       "      <td>2016-04-29T00:00:00Z</td>\n",
       "      <td>62</td>\n",
       "      <td>JARDIM DA PENHA</td>\n",
       "      <td>0</td>\n",
       "      <td>1</td>\n",
       "      <td>0</td>\n",
       "      <td>0</td>\n",
       "      <td>0</td>\n",
       "      <td>0</td>\n",
       "      <td>No</td>\n",
       "    </tr>\n",
       "    <tr>\n",
       "      <th>1</th>\n",
       "      <td>5.589978e+14</td>\n",
       "      <td>5642503</td>\n",
       "      <td>M</td>\n",
       "      <td>2016-04-29T16:08:27Z</td>\n",
       "      <td>2016-04-29T00:00:00Z</td>\n",
       "      <td>56</td>\n",
       "      <td>JARDIM DA PENHA</td>\n",
       "      <td>0</td>\n",
       "      <td>0</td>\n",
       "      <td>0</td>\n",
       "      <td>0</td>\n",
       "      <td>0</td>\n",
       "      <td>0</td>\n",
       "      <td>No</td>\n",
       "    </tr>\n",
       "  </tbody>\n",
       "</table>\n",
       "</div>"
      ],
      "text/plain": [
       "      PatientId  AppointmentID Gender          ScheduledDay  \\\n",
       "0  2.987250e+13        5642903      F  2016-04-29T18:38:08Z   \n",
       "1  5.589978e+14        5642503      M  2016-04-29T16:08:27Z   \n",
       "\n",
       "         AppointmentDay  Age    Neighbourhood  Scholarship  Hipertension  \\\n",
       "0  2016-04-29T00:00:00Z   62  JARDIM DA PENHA            0             1   \n",
       "1  2016-04-29T00:00:00Z   56  JARDIM DA PENHA            0             0   \n",
       "\n",
       "   Diabetes  Alcoholism  Handcap  SMS_received No-show  \n",
       "0         0           0        0             0      No  \n",
       "1         0           0        0             0      No  "
      ]
     },
     "execution_count": 3,
     "metadata": {},
     "output_type": "execute_result"
    }
   ],
   "source": [
    "# view first few rows\n",
    "df.head(2)"
   ]
  },
  {
   "cell_type": "code",
   "execution_count": 4,
   "id": "e059f63c",
   "metadata": {},
   "outputs": [
    {
     "data": {
      "text/plain": [
       "(110527, 14)"
      ]
     },
     "execution_count": 4,
     "metadata": {},
     "output_type": "execute_result"
    }
   ],
   "source": [
    "# To know the dimensions of the data\n",
    "df.shape"
   ]
  },
  {
   "cell_type": "code",
   "execution_count": 5,
   "id": "fef4f654",
   "metadata": {
    "scrolled": true
   },
   "outputs": [
    {
     "name": "stdout",
     "output_type": "stream",
     "text": [
      "<class 'pandas.core.frame.DataFrame'>\n",
      "RangeIndex: 110527 entries, 0 to 110526\n",
      "Data columns (total 14 columns):\n",
      " #   Column          Non-Null Count   Dtype  \n",
      "---  ------          --------------   -----  \n",
      " 0   PatientId       110527 non-null  float64\n",
      " 1   AppointmentID   110527 non-null  int64  \n",
      " 2   Gender          110527 non-null  object \n",
      " 3   ScheduledDay    110527 non-null  object \n",
      " 4   AppointmentDay  110527 non-null  object \n",
      " 5   Age             110527 non-null  int64  \n",
      " 6   Neighbourhood   110527 non-null  object \n",
      " 7   Scholarship     110527 non-null  int64  \n",
      " 8   Hipertension    110527 non-null  int64  \n",
      " 9   Diabetes        110527 non-null  int64  \n",
      " 10  Alcoholism      110527 non-null  int64  \n",
      " 11  Handcap         110527 non-null  int64  \n",
      " 12  SMS_received    110527 non-null  int64  \n",
      " 13  No-show         110527 non-null  object \n",
      "dtypes: float64(1), int64(8), object(5)\n",
      "memory usage: 11.8+ MB\n"
     ]
    }
   ],
   "source": [
    "# Checking out for data types\n",
    "df.info()"
   ]
  },
  {
   "cell_type": "code",
   "execution_count": 6,
   "id": "572e25e9",
   "metadata": {},
   "outputs": [
    {
     "data": {
      "text/html": [
       "<div>\n",
       "<style scoped>\n",
       "    .dataframe tbody tr th:only-of-type {\n",
       "        vertical-align: middle;\n",
       "    }\n",
       "\n",
       "    .dataframe tbody tr th {\n",
       "        vertical-align: top;\n",
       "    }\n",
       "\n",
       "    .dataframe thead th {\n",
       "        text-align: right;\n",
       "    }\n",
       "</style>\n",
       "<table border=\"1\" class=\"dataframe\">\n",
       "  <thead>\n",
       "    <tr style=\"text-align: right;\">\n",
       "      <th></th>\n",
       "      <th>PatientId</th>\n",
       "      <th>AppointmentID</th>\n",
       "      <th>Age</th>\n",
       "      <th>Scholarship</th>\n",
       "      <th>Hipertension</th>\n",
       "      <th>Diabetes</th>\n",
       "      <th>Alcoholism</th>\n",
       "      <th>Handcap</th>\n",
       "      <th>SMS_received</th>\n",
       "    </tr>\n",
       "  </thead>\n",
       "  <tbody>\n",
       "    <tr>\n",
       "      <th>count</th>\n",
       "      <td>1.105270e+05</td>\n",
       "      <td>1.105270e+05</td>\n",
       "      <td>110527.000000</td>\n",
       "      <td>110527.000000</td>\n",
       "      <td>110527.000000</td>\n",
       "      <td>110527.000000</td>\n",
       "      <td>110527.000000</td>\n",
       "      <td>110527.000000</td>\n",
       "      <td>110527.000000</td>\n",
       "    </tr>\n",
       "    <tr>\n",
       "      <th>mean</th>\n",
       "      <td>1.474963e+14</td>\n",
       "      <td>5.675305e+06</td>\n",
       "      <td>37.088874</td>\n",
       "      <td>0.098266</td>\n",
       "      <td>0.197246</td>\n",
       "      <td>0.071865</td>\n",
       "      <td>0.030400</td>\n",
       "      <td>0.022248</td>\n",
       "      <td>0.321026</td>\n",
       "    </tr>\n",
       "    <tr>\n",
       "      <th>std</th>\n",
       "      <td>2.560949e+14</td>\n",
       "      <td>7.129575e+04</td>\n",
       "      <td>23.110205</td>\n",
       "      <td>0.297675</td>\n",
       "      <td>0.397921</td>\n",
       "      <td>0.258265</td>\n",
       "      <td>0.171686</td>\n",
       "      <td>0.161543</td>\n",
       "      <td>0.466873</td>\n",
       "    </tr>\n",
       "    <tr>\n",
       "      <th>min</th>\n",
       "      <td>3.921784e+04</td>\n",
       "      <td>5.030230e+06</td>\n",
       "      <td>-1.000000</td>\n",
       "      <td>0.000000</td>\n",
       "      <td>0.000000</td>\n",
       "      <td>0.000000</td>\n",
       "      <td>0.000000</td>\n",
       "      <td>0.000000</td>\n",
       "      <td>0.000000</td>\n",
       "    </tr>\n",
       "    <tr>\n",
       "      <th>25%</th>\n",
       "      <td>4.172614e+12</td>\n",
       "      <td>5.640286e+06</td>\n",
       "      <td>18.000000</td>\n",
       "      <td>0.000000</td>\n",
       "      <td>0.000000</td>\n",
       "      <td>0.000000</td>\n",
       "      <td>0.000000</td>\n",
       "      <td>0.000000</td>\n",
       "      <td>0.000000</td>\n",
       "    </tr>\n",
       "    <tr>\n",
       "      <th>50%</th>\n",
       "      <td>3.173184e+13</td>\n",
       "      <td>5.680573e+06</td>\n",
       "      <td>37.000000</td>\n",
       "      <td>0.000000</td>\n",
       "      <td>0.000000</td>\n",
       "      <td>0.000000</td>\n",
       "      <td>0.000000</td>\n",
       "      <td>0.000000</td>\n",
       "      <td>0.000000</td>\n",
       "    </tr>\n",
       "    <tr>\n",
       "      <th>75%</th>\n",
       "      <td>9.439172e+13</td>\n",
       "      <td>5.725524e+06</td>\n",
       "      <td>55.000000</td>\n",
       "      <td>0.000000</td>\n",
       "      <td>0.000000</td>\n",
       "      <td>0.000000</td>\n",
       "      <td>0.000000</td>\n",
       "      <td>0.000000</td>\n",
       "      <td>1.000000</td>\n",
       "    </tr>\n",
       "    <tr>\n",
       "      <th>max</th>\n",
       "      <td>9.999816e+14</td>\n",
       "      <td>5.790484e+06</td>\n",
       "      <td>115.000000</td>\n",
       "      <td>1.000000</td>\n",
       "      <td>1.000000</td>\n",
       "      <td>1.000000</td>\n",
       "      <td>1.000000</td>\n",
       "      <td>4.000000</td>\n",
       "      <td>1.000000</td>\n",
       "    </tr>\n",
       "  </tbody>\n",
       "</table>\n",
       "</div>"
      ],
      "text/plain": [
       "          PatientId  AppointmentID            Age    Scholarship  \\\n",
       "count  1.105270e+05   1.105270e+05  110527.000000  110527.000000   \n",
       "mean   1.474963e+14   5.675305e+06      37.088874       0.098266   \n",
       "std    2.560949e+14   7.129575e+04      23.110205       0.297675   \n",
       "min    3.921784e+04   5.030230e+06      -1.000000       0.000000   \n",
       "25%    4.172614e+12   5.640286e+06      18.000000       0.000000   \n",
       "50%    3.173184e+13   5.680573e+06      37.000000       0.000000   \n",
       "75%    9.439172e+13   5.725524e+06      55.000000       0.000000   \n",
       "max    9.999816e+14   5.790484e+06     115.000000       1.000000   \n",
       "\n",
       "        Hipertension       Diabetes     Alcoholism        Handcap  \\\n",
       "count  110527.000000  110527.000000  110527.000000  110527.000000   \n",
       "mean        0.197246       0.071865       0.030400       0.022248   \n",
       "std         0.397921       0.258265       0.171686       0.161543   \n",
       "min         0.000000       0.000000       0.000000       0.000000   \n",
       "25%         0.000000       0.000000       0.000000       0.000000   \n",
       "50%         0.000000       0.000000       0.000000       0.000000   \n",
       "75%         0.000000       0.000000       0.000000       0.000000   \n",
       "max         1.000000       1.000000       1.000000       4.000000   \n",
       "\n",
       "        SMS_received  \n",
       "count  110527.000000  \n",
       "mean        0.321026  \n",
       "std         0.466873  \n",
       "min         0.000000  \n",
       "25%         0.000000  \n",
       "50%         0.000000  \n",
       "75%         1.000000  \n",
       "max         1.000000  "
      ]
     },
     "execution_count": 6,
     "metadata": {},
     "output_type": "execute_result"
    }
   ],
   "source": [
    "# Getting some stats about the data\n",
    "df.describe()"
   ]
  },
  {
   "cell_type": "markdown",
   "id": "02c8d7d6",
   "metadata": {},
   "source": [
    "## A bit of explanation about the data"
   ]
  },
  {
   "cell_type": "markdown",
   "id": "00957256",
   "metadata": {},
   "source": [
    "##### PatientId - A unique identifier for each patient\n",
    "##### AppointmentID - A unique identifier for each appointment\n",
    "##### Gender - A binary description of the patient's gender\n",
    "##### ScheduledDay - The date the appointment was scheduled\n",
    "##### AppointmentDay - The day the appointment was scheduled for\n",
    "##### Age - Age of the Patient (in number of years)\n",
    "##### Neighbourhood - The locale of the hospital\n",
    "##### Scholarship - is the appointment was sponsored by the social welfare program of the govt? ( 1 - means 'YES' and 0 - means 'NO')\n",
    "##### Hipertension - is the patient hypertensive? ( 1 - means 'YES' and 0 - means 'NO')\n",
    "##### Diabetes - is the patient diabetic? ( 1 - means 'YES' and 0 - means 'NO')\n",
    "##### Alcoholism - is the patient an alcoholic? ( 1 - means 'YES' and 0 - means 'NO')\n",
    "##### Handcap - is the patient handicapped? ( 1 - means 'YES' and 0 - means 'NO')\n",
    "##### SMS_received - Did the patient receive SMS_alert? ( 1 - means 'YES' and 0 - means 'NO')\n",
    "##### No-show - The patient didn't show up? ( 'YES' means they didn't show up and NO means they showed up)"
   ]
  },
  {
   "cell_type": "markdown",
   "id": "97702529",
   "metadata": {},
   "source": [
    "## Steps to clean the dataset"
   ]
  },
  {
   "cell_type": "code",
   "execution_count": 7,
   "id": "3999b22e",
   "metadata": {},
   "outputs": [],
   "source": [
    "# From df.describe() above, I discovered that min age is '-1' (which is not a realistic number in terms of Age).\n",
    "# All data set that falls into this category should be removed."
   ]
  },
  {
   "cell_type": "code",
   "execution_count": 8,
   "id": "64ffd80f",
   "metadata": {},
   "outputs": [
    {
     "data": {
      "text/html": [
       "<div>\n",
       "<style scoped>\n",
       "    .dataframe tbody tr th:only-of-type {\n",
       "        vertical-align: middle;\n",
       "    }\n",
       "\n",
       "    .dataframe tbody tr th {\n",
       "        vertical-align: top;\n",
       "    }\n",
       "\n",
       "    .dataframe thead th {\n",
       "        text-align: right;\n",
       "    }\n",
       "</style>\n",
       "<table border=\"1\" class=\"dataframe\">\n",
       "  <thead>\n",
       "    <tr style=\"text-align: right;\">\n",
       "      <th></th>\n",
       "      <th>PatientId</th>\n",
       "      <th>AppointmentID</th>\n",
       "      <th>Gender</th>\n",
       "      <th>ScheduledDay</th>\n",
       "      <th>AppointmentDay</th>\n",
       "      <th>Age</th>\n",
       "      <th>Neighbourhood</th>\n",
       "      <th>Scholarship</th>\n",
       "      <th>Hipertension</th>\n",
       "      <th>Diabetes</th>\n",
       "      <th>Alcoholism</th>\n",
       "      <th>Handcap</th>\n",
       "      <th>SMS_received</th>\n",
       "      <th>No-show</th>\n",
       "    </tr>\n",
       "  </thead>\n",
       "  <tbody>\n",
       "    <tr>\n",
       "      <th>99832</th>\n",
       "      <td>4.659432e+14</td>\n",
       "      <td>5775010</td>\n",
       "      <td>F</td>\n",
       "      <td>2016-06-06T08:58:13Z</td>\n",
       "      <td>2016-06-06T00:00:00Z</td>\n",
       "      <td>-1</td>\n",
       "      <td>ROMÃO</td>\n",
       "      <td>0</td>\n",
       "      <td>0</td>\n",
       "      <td>0</td>\n",
       "      <td>0</td>\n",
       "      <td>0</td>\n",
       "      <td>0</td>\n",
       "      <td>No</td>\n",
       "    </tr>\n",
       "  </tbody>\n",
       "</table>\n",
       "</div>"
      ],
      "text/plain": [
       "          PatientId  AppointmentID Gender          ScheduledDay  \\\n",
       "99832  4.659432e+14        5775010      F  2016-06-06T08:58:13Z   \n",
       "\n",
       "             AppointmentDay  Age Neighbourhood  Scholarship  Hipertension  \\\n",
       "99832  2016-06-06T00:00:00Z   -1         ROMÃO            0             0   \n",
       "\n",
       "       Diabetes  Alcoholism  Handcap  SMS_received No-show  \n",
       "99832         0           0        0             0      No  "
      ]
     },
     "execution_count": 8,
     "metadata": {},
     "output_type": "execute_result"
    }
   ],
   "source": [
    "# Searching for data where age is less than 0\n",
    "\n",
    "df.query('Age < 0')"
   ]
  },
  {
   "cell_type": "code",
   "execution_count": 9,
   "id": "d307401d",
   "metadata": {},
   "outputs": [],
   "source": [
    "# we have only 1 row and it shall be dropped.\n",
    "\n",
    "df.drop(df[(df.Age < 0)].index, inplace=True)\n",
    "\n",
    "# '.index' will help to maintain the column index\n",
    "# 'inplace' will help to make the change permanent\n",
    "# Therefore we now have 110526 rows and 14 columns."
   ]
  },
  {
   "cell_type": "code",
   "execution_count": 10,
   "id": "39d66305",
   "metadata": {},
   "outputs": [
    {
     "data": {
      "text/plain": [
       "0"
      ]
     },
     "execution_count": 10,
     "metadata": {},
     "output_type": "execute_result"
    }
   ],
   "source": [
    "# checking for duplicates\n",
    "\n",
    "df.duplicated().any().sum()\n",
    "\n",
    "# Fortunately! there are no duplicates. Hooray!"
   ]
  },
  {
   "cell_type": "code",
   "execution_count": 11,
   "id": "cf7aa984",
   "metadata": {
    "scrolled": true
   },
   "outputs": [
    {
     "data": {
      "text/plain": [
       "PatientId         0\n",
       "AppointmentID     0\n",
       "Gender            0\n",
       "ScheduledDay      0\n",
       "AppointmentDay    0\n",
       "Age               0\n",
       "Neighbourhood     0\n",
       "Scholarship       0\n",
       "Hipertension      0\n",
       "Diabetes          0\n",
       "Alcoholism        0\n",
       "Handcap           0\n",
       "SMS_received      0\n",
       "No-show           0\n",
       "dtype: int64"
      ]
     },
     "execution_count": 11,
     "metadata": {},
     "output_type": "execute_result"
    }
   ],
   "source": [
    "# checking for null values\n",
    "\n",
    "df.isnull().sum()\n",
    "\n",
    "# Fortunately! there are no null values. Hooray!"
   ]
  },
  {
   "cell_type": "code",
   "execution_count": 12,
   "id": "08bee4bc",
   "metadata": {},
   "outputs": [],
   "source": [
    "# Renaming all the columns to suit my typing preference.\n",
    "\n",
    "df.columns = ['patient_id','appointment_id','gender',\n",
    "              'scheduled_day','appointment_day','age','neighbourhood',\n",
    "              'scholarship','hypertension','diabetes','alcoholism',\n",
    "              'handicap','sms_received','no_show']"
   ]
  },
  {
   "cell_type": "code",
   "execution_count": 13,
   "id": "35400564",
   "metadata": {},
   "outputs": [
    {
     "data": {
      "text/html": [
       "<div>\n",
       "<style scoped>\n",
       "    .dataframe tbody tr th:only-of-type {\n",
       "        vertical-align: middle;\n",
       "    }\n",
       "\n",
       "    .dataframe tbody tr th {\n",
       "        vertical-align: top;\n",
       "    }\n",
       "\n",
       "    .dataframe thead th {\n",
       "        text-align: right;\n",
       "    }\n",
       "</style>\n",
       "<table border=\"1\" class=\"dataframe\">\n",
       "  <thead>\n",
       "    <tr style=\"text-align: right;\">\n",
       "      <th></th>\n",
       "      <th>patient_id</th>\n",
       "      <th>appointment_id</th>\n",
       "      <th>gender</th>\n",
       "      <th>scheduled_day</th>\n",
       "      <th>appointment_day</th>\n",
       "      <th>age</th>\n",
       "      <th>neighbourhood</th>\n",
       "      <th>scholarship</th>\n",
       "      <th>hypertension</th>\n",
       "      <th>diabetes</th>\n",
       "      <th>alcoholism</th>\n",
       "      <th>handicap</th>\n",
       "      <th>sms_received</th>\n",
       "      <th>no_show</th>\n",
       "      <th>appointment_date</th>\n",
       "      <th>time</th>\n",
       "    </tr>\n",
       "  </thead>\n",
       "  <tbody>\n",
       "    <tr>\n",
       "      <th>0</th>\n",
       "      <td>2.987250e+13</td>\n",
       "      <td>5642903</td>\n",
       "      <td>F</td>\n",
       "      <td>2016-04-29T18:38:08Z</td>\n",
       "      <td>2016-04-29T00:00:00Z</td>\n",
       "      <td>62</td>\n",
       "      <td>JARDIM DA PENHA</td>\n",
       "      <td>0</td>\n",
       "      <td>1</td>\n",
       "      <td>0</td>\n",
       "      <td>0</td>\n",
       "      <td>0</td>\n",
       "      <td>0</td>\n",
       "      <td>No</td>\n",
       "      <td>2016-04-29</td>\n",
       "      <td>00:00:00Z</td>\n",
       "    </tr>\n",
       "    <tr>\n",
       "      <th>1</th>\n",
       "      <td>5.589978e+14</td>\n",
       "      <td>5642503</td>\n",
       "      <td>M</td>\n",
       "      <td>2016-04-29T16:08:27Z</td>\n",
       "      <td>2016-04-29T00:00:00Z</td>\n",
       "      <td>56</td>\n",
       "      <td>JARDIM DA PENHA</td>\n",
       "      <td>0</td>\n",
       "      <td>0</td>\n",
       "      <td>0</td>\n",
       "      <td>0</td>\n",
       "      <td>0</td>\n",
       "      <td>0</td>\n",
       "      <td>No</td>\n",
       "      <td>2016-04-29</td>\n",
       "      <td>00:00:00Z</td>\n",
       "    </tr>\n",
       "  </tbody>\n",
       "</table>\n",
       "</div>"
      ],
      "text/plain": [
       "     patient_id  appointment_id gender         scheduled_day  \\\n",
       "0  2.987250e+13         5642903      F  2016-04-29T18:38:08Z   \n",
       "1  5.589978e+14         5642503      M  2016-04-29T16:08:27Z   \n",
       "\n",
       "        appointment_day  age    neighbourhood  scholarship  hypertension  \\\n",
       "0  2016-04-29T00:00:00Z   62  JARDIM DA PENHA            0             1   \n",
       "1  2016-04-29T00:00:00Z   56  JARDIM DA PENHA            0             0   \n",
       "\n",
       "   diabetes  alcoholism  handicap  sms_received no_show appointment_date  \\\n",
       "0         0           0         0             0      No       2016-04-29   \n",
       "1         0           0         0             0      No       2016-04-29   \n",
       "\n",
       "        time  \n",
       "0  00:00:00Z  \n",
       "1  00:00:00Z  "
      ]
     },
     "execution_count": 13,
     "metadata": {},
     "output_type": "execute_result"
    }
   ],
   "source": [
    "# cleaning out time data from the 'appointment day' column\n",
    "\n",
    "df[['appointment_date', 'time']]=df['appointment_day'].str.split('T', 1, expand=True)\n",
    "df.head(2)\n",
    "\n",
    "# We now have 2 extra columns.... All irrelevant columns will soon be dropped."
   ]
  },
  {
   "cell_type": "code",
   "execution_count": 14,
   "id": "449612c5",
   "metadata": {},
   "outputs": [
    {
     "name": "stdout",
     "output_type": "stream",
     "text": [
      "<class 'pandas.core.frame.DataFrame'>\n",
      "Int64Index: 110526 entries, 0 to 110526\n",
      "Data columns (total 16 columns):\n",
      " #   Column            Non-Null Count   Dtype         \n",
      "---  ------            --------------   -----         \n",
      " 0   patient_id        110526 non-null  float64       \n",
      " 1   appointment_id    110526 non-null  int64         \n",
      " 2   gender            110526 non-null  object        \n",
      " 3   scheduled_day     110526 non-null  object        \n",
      " 4   appointment_day   110526 non-null  object        \n",
      " 5   age               110526 non-null  int64         \n",
      " 6   neighbourhood     110526 non-null  object        \n",
      " 7   scholarship       110526 non-null  int64         \n",
      " 8   hypertension      110526 non-null  int64         \n",
      " 9   diabetes          110526 non-null  int64         \n",
      " 10  alcoholism        110526 non-null  int64         \n",
      " 11  handicap          110526 non-null  int64         \n",
      " 12  sms_received      110526 non-null  int64         \n",
      " 13  no_show           110526 non-null  object        \n",
      " 14  appointment_date  110526 non-null  datetime64[ns]\n",
      " 15  time              110526 non-null  object        \n",
      "dtypes: datetime64[ns](1), float64(1), int64(8), object(6)\n",
      "memory usage: 14.3+ MB\n"
     ]
    }
   ],
   "source": [
    "# Converting the appointment day to DateTime datatype.\n",
    "\n",
    "df['appointment_date']=pd.to_datetime(df['appointment_date'])\n",
    "df.info()\n",
    "\n",
    "# I won't do same to the 'Schedule day' because I deem it not so relevant to my investigations"
   ]
  },
  {
   "cell_type": "code",
   "execution_count": 15,
   "id": "ad7425cf",
   "metadata": {},
   "outputs": [
    {
     "data": {
      "text/html": [
       "<div>\n",
       "<style scoped>\n",
       "    .dataframe tbody tr th:only-of-type {\n",
       "        vertical-align: middle;\n",
       "    }\n",
       "\n",
       "    .dataframe tbody tr th {\n",
       "        vertical-align: top;\n",
       "    }\n",
       "\n",
       "    .dataframe thead th {\n",
       "        text-align: right;\n",
       "    }\n",
       "</style>\n",
       "<table border=\"1\" class=\"dataframe\">\n",
       "  <thead>\n",
       "    <tr style=\"text-align: right;\">\n",
       "      <th></th>\n",
       "      <th>appointment_date</th>\n",
       "      <th>gender</th>\n",
       "      <th>age</th>\n",
       "      <th>neighbourhood</th>\n",
       "      <th>scholarship</th>\n",
       "      <th>hypertension</th>\n",
       "      <th>diabetes</th>\n",
       "      <th>alcoholism</th>\n",
       "      <th>handicap</th>\n",
       "      <th>sms_received</th>\n",
       "      <th>no_show</th>\n",
       "    </tr>\n",
       "  </thead>\n",
       "  <tbody>\n",
       "    <tr>\n",
       "      <th>0</th>\n",
       "      <td>2016-04-29</td>\n",
       "      <td>F</td>\n",
       "      <td>62</td>\n",
       "      <td>JARDIM DA PENHA</td>\n",
       "      <td>0</td>\n",
       "      <td>1</td>\n",
       "      <td>0</td>\n",
       "      <td>0</td>\n",
       "      <td>0</td>\n",
       "      <td>0</td>\n",
       "      <td>No</td>\n",
       "    </tr>\n",
       "    <tr>\n",
       "      <th>1</th>\n",
       "      <td>2016-04-29</td>\n",
       "      <td>M</td>\n",
       "      <td>56</td>\n",
       "      <td>JARDIM DA PENHA</td>\n",
       "      <td>0</td>\n",
       "      <td>0</td>\n",
       "      <td>0</td>\n",
       "      <td>0</td>\n",
       "      <td>0</td>\n",
       "      <td>0</td>\n",
       "      <td>No</td>\n",
       "    </tr>\n",
       "  </tbody>\n",
       "</table>\n",
       "</div>"
      ],
      "text/plain": [
       "  appointment_date gender  age    neighbourhood  scholarship  hypertension  \\\n",
       "0       2016-04-29      F   62  JARDIM DA PENHA            0             1   \n",
       "1       2016-04-29      M   56  JARDIM DA PENHA            0             0   \n",
       "\n",
       "   diabetes  alcoholism  handicap  sms_received no_show  \n",
       "0         0           0         0             0      No  \n",
       "1         0           0         0             0      No  "
      ]
     },
     "execution_count": 15,
     "metadata": {},
     "output_type": "execute_result"
    }
   ],
   "source": [
    "# Finally, I want to drop columns 'patient_id','appointment_id' and'scheduled_day'. \n",
    "# I deem them to be irrelevant to my analysis.\n",
    "\n",
    "# I wont be using the drop() function. Rather I will mask out the unwanted columns\n",
    "\n",
    "df = df[['appointment_date','gender','age','neighbourhood','scholarship','hypertension',\n",
    "            'diabetes','alcoholism','handicap','sms_received','no_show']]\n",
    "df.head(2)"
   ]
  },
  {
   "cell_type": "code",
   "execution_count": 16,
   "id": "a0690de5",
   "metadata": {},
   "outputs": [
    {
     "data": {
      "text/plain": [
       "(110526, 11)"
      ]
     },
     "execution_count": 16,
     "metadata": {},
     "output_type": "execute_result"
    }
   ],
   "source": [
    "# Checking the shape of the dataframe\n",
    "\n",
    "df.shape"
   ]
  },
  {
   "cell_type": "markdown",
   "id": "1b1ade5c",
   "metadata": {},
   "source": [
    "# Investigations\n",
    "##### In this investigation, my independent variable is 'no_show', which other features will be analysed upon."
   ]
  },
  {
   "cell_type": "markdown",
   "id": "4cd7c97a",
   "metadata": {},
   "source": [
    "### What percentage of Female missed their appointment?\n",
    "\n",
    "###### To solve this, I will find out the number of female who didnt show (where 'no_show' is yes), and divide it by total number of female"
   ]
  },
  {
   "cell_type": "code",
   "execution_count": 17,
   "id": "b6cc7ea2",
   "metadata": {},
   "outputs": [
    {
     "data": {
      "text/html": [
       "<div>\n",
       "<style scoped>\n",
       "    .dataframe tbody tr th:only-of-type {\n",
       "        vertical-align: middle;\n",
       "    }\n",
       "\n",
       "    .dataframe tbody tr th {\n",
       "        vertical-align: top;\n",
       "    }\n",
       "\n",
       "    .dataframe thead th {\n",
       "        text-align: right;\n",
       "    }\n",
       "</style>\n",
       "<table border=\"1\" class=\"dataframe\">\n",
       "  <thead>\n",
       "    <tr style=\"text-align: right;\">\n",
       "      <th></th>\n",
       "      <th>appointment_date</th>\n",
       "      <th>gender</th>\n",
       "      <th>age</th>\n",
       "      <th>neighbourhood</th>\n",
       "      <th>scholarship</th>\n",
       "      <th>hypertension</th>\n",
       "      <th>diabetes</th>\n",
       "      <th>alcoholism</th>\n",
       "      <th>handicap</th>\n",
       "      <th>sms_received</th>\n",
       "      <th>no_show</th>\n",
       "    </tr>\n",
       "  </thead>\n",
       "  <tbody>\n",
       "    <tr>\n",
       "      <th>0</th>\n",
       "      <td>2016-04-29</td>\n",
       "      <td>F</td>\n",
       "      <td>62</td>\n",
       "      <td>JARDIM DA PENHA</td>\n",
       "      <td>0</td>\n",
       "      <td>1</td>\n",
       "      <td>0</td>\n",
       "      <td>0</td>\n",
       "      <td>0</td>\n",
       "      <td>0</td>\n",
       "      <td>No</td>\n",
       "    </tr>\n",
       "    <tr>\n",
       "      <th>2</th>\n",
       "      <td>2016-04-29</td>\n",
       "      <td>F</td>\n",
       "      <td>62</td>\n",
       "      <td>MATA DA PRAIA</td>\n",
       "      <td>0</td>\n",
       "      <td>0</td>\n",
       "      <td>0</td>\n",
       "      <td>0</td>\n",
       "      <td>0</td>\n",
       "      <td>0</td>\n",
       "      <td>No</td>\n",
       "    </tr>\n",
       "  </tbody>\n",
       "</table>\n",
       "</div>"
      ],
      "text/plain": [
       "  appointment_date gender  age    neighbourhood  scholarship  hypertension  \\\n",
       "0       2016-04-29      F   62  JARDIM DA PENHA            0             1   \n",
       "2       2016-04-29      F   62    MATA DA PRAIA            0             0   \n",
       "\n",
       "   diabetes  alcoholism  handicap  sms_received no_show  \n",
       "0         0           0         0             0      No  \n",
       "2         0           0         0             0      No  "
      ]
     },
     "execution_count": 17,
     "metadata": {},
     "output_type": "execute_result"
    }
   ],
   "source": [
    "# selecting all females in the data\n",
    "\n",
    "all_F=df[df.gender=='F']\n",
    "all_F.head(2)"
   ]
  },
  {
   "cell_type": "code",
   "execution_count": 18,
   "id": "9e990812",
   "metadata": {
    "scrolled": true
   },
   "outputs": [
    {
     "data": {
      "text/plain": [
       "14594"
      ]
     },
     "execution_count": 18,
     "metadata": {},
     "output_type": "execute_result"
    }
   ],
   "source": [
    "# counting number of Female who didn't show (no-show==Yes)\n",
    "\n",
    "noshowF=all_F[all_F.no_show=='Yes'].count()['no_show']\n",
    "noshowF"
   ]
  },
  {
   "cell_type": "code",
   "execution_count": 19,
   "id": "639c7b92",
   "metadata": {},
   "outputs": [
    {
     "data": {
      "text/plain": [
       "71839"
      ]
     },
     "execution_count": 19,
     "metadata": {},
     "output_type": "execute_result"
    }
   ],
   "source": [
    "# counting number of female in general\n",
    "\n",
    "count_female=df.gender.value_counts()['F']\n",
    "count_female"
   ]
  },
  {
   "cell_type": "code",
   "execution_count": 20,
   "id": "5454df94",
   "metadata": {},
   "outputs": [
    {
     "data": {
      "text/plain": [
       "20.314870752655242"
      ]
     },
     "execution_count": 20,
     "metadata": {},
     "output_type": "execute_result"
    }
   ],
   "source": [
    "# converting to percentage\n",
    "\n",
    "(noshowF/count_female)*100"
   ]
  },
  {
   "cell_type": "markdown",
   "id": "a9e98ee0",
   "metadata": {},
   "source": [
    "#### From above we see that there are '71,839' females in the dataset, where '14,594' of them did not show up for their appointment.\n",
    "#### which makes a 20.31% No-Show rate amongst the Female"
   ]
  },
  {
   "cell_type": "code",
   "execution_count": null,
   "id": "74ddf1a0",
   "metadata": {},
   "outputs": [],
   "source": []
  },
  {
   "cell_type": "markdown",
   "id": "6f5e18ba",
   "metadata": {},
   "source": [
    "### What percentage of Male missed their appointment?"
   ]
  },
  {
   "cell_type": "code",
   "execution_count": 21,
   "id": "08f42cf4",
   "metadata": {},
   "outputs": [
    {
     "data": {
      "text/html": [
       "<div>\n",
       "<style scoped>\n",
       "    .dataframe tbody tr th:only-of-type {\n",
       "        vertical-align: middle;\n",
       "    }\n",
       "\n",
       "    .dataframe tbody tr th {\n",
       "        vertical-align: top;\n",
       "    }\n",
       "\n",
       "    .dataframe thead th {\n",
       "        text-align: right;\n",
       "    }\n",
       "</style>\n",
       "<table border=\"1\" class=\"dataframe\">\n",
       "  <thead>\n",
       "    <tr style=\"text-align: right;\">\n",
       "      <th></th>\n",
       "      <th>appointment_date</th>\n",
       "      <th>gender</th>\n",
       "      <th>age</th>\n",
       "      <th>neighbourhood</th>\n",
       "      <th>scholarship</th>\n",
       "      <th>hypertension</th>\n",
       "      <th>diabetes</th>\n",
       "      <th>alcoholism</th>\n",
       "      <th>handicap</th>\n",
       "      <th>sms_received</th>\n",
       "      <th>no_show</th>\n",
       "    </tr>\n",
       "  </thead>\n",
       "  <tbody>\n",
       "    <tr>\n",
       "      <th>1</th>\n",
       "      <td>2016-04-29</td>\n",
       "      <td>M</td>\n",
       "      <td>56</td>\n",
       "      <td>JARDIM DA PENHA</td>\n",
       "      <td>0</td>\n",
       "      <td>0</td>\n",
       "      <td>0</td>\n",
       "      <td>0</td>\n",
       "      <td>0</td>\n",
       "      <td>0</td>\n",
       "      <td>No</td>\n",
       "    </tr>\n",
       "    <tr>\n",
       "      <th>11</th>\n",
       "      <td>2016-04-29</td>\n",
       "      <td>M</td>\n",
       "      <td>29</td>\n",
       "      <td>NOVA PALESTINA</td>\n",
       "      <td>0</td>\n",
       "      <td>0</td>\n",
       "      <td>0</td>\n",
       "      <td>0</td>\n",
       "      <td>0</td>\n",
       "      <td>1</td>\n",
       "      <td>Yes</td>\n",
       "    </tr>\n",
       "  </tbody>\n",
       "</table>\n",
       "</div>"
      ],
      "text/plain": [
       "   appointment_date gender  age    neighbourhood  scholarship  hypertension  \\\n",
       "1        2016-04-29      M   56  JARDIM DA PENHA            0             0   \n",
       "11       2016-04-29      M   29   NOVA PALESTINA            0             0   \n",
       "\n",
       "    diabetes  alcoholism  handicap  sms_received no_show  \n",
       "1          0           0         0             0      No  \n",
       "11         0           0         0             1     Yes  "
      ]
     },
     "execution_count": 21,
     "metadata": {},
     "output_type": "execute_result"
    }
   ],
   "source": [
    "# selecting all males in the data\n",
    "\n",
    "all_M=df[df.gender=='M']\n",
    "all_M.head(2)"
   ]
  },
  {
   "cell_type": "code",
   "execution_count": 22,
   "id": "a2dd45ec",
   "metadata": {},
   "outputs": [
    {
     "data": {
      "text/plain": [
       "7725"
      ]
     },
     "execution_count": 22,
     "metadata": {},
     "output_type": "execute_result"
    }
   ],
   "source": [
    "# counting number of male who didn't show (no-show==Yes)\n",
    "\n",
    "noshowM=all_M[all_M.no_show=='Yes'].count()['no_show']\n",
    "noshowM"
   ]
  },
  {
   "cell_type": "code",
   "execution_count": 23,
   "id": "7686aba4",
   "metadata": {},
   "outputs": [
    {
     "data": {
      "text/plain": [
       "38687"
      ]
     },
     "execution_count": 23,
     "metadata": {},
     "output_type": "execute_result"
    }
   ],
   "source": [
    "# counting number of female in general\n",
    "\n",
    "count_male=df.gender.value_counts()['M']\n",
    "count_male"
   ]
  },
  {
   "cell_type": "code",
   "execution_count": 24,
   "id": "e8901872",
   "metadata": {},
   "outputs": [
    {
     "data": {
      "text/plain": [
       "19.967947889471915"
      ]
     },
     "execution_count": 24,
     "metadata": {},
     "output_type": "execute_result"
    }
   ],
   "source": [
    "# converting to percentage\n",
    "\n",
    "(noshowM/count_male)*100"
   ]
  },
  {
   "cell_type": "markdown",
   "id": "f8724b1f",
   "metadata": {},
   "source": [
    "#### From above we see that there are '38,687' males in the dataset, where '7,725' of them did not show up for their appointment.\n",
    "#### which makes a 19.97% No-Show rate amongst the Male"
   ]
  },
  {
   "cell_type": "code",
   "execution_count": null,
   "id": "d20b7361",
   "metadata": {},
   "outputs": [],
   "source": []
  },
  {
   "cell_type": "markdown",
   "id": "3bf203d0",
   "metadata": {},
   "source": [
    "### Visualizing Appointment Status by Gender"
   ]
  },
  {
   "cell_type": "code",
   "execution_count": 25,
   "id": "5110952c",
   "metadata": {},
   "outputs": [],
   "source": [
    "male_noshow=df.gender[(df.gender=='M')&(df.no_show=='Yes')].count()\n",
    "female_noshow=df.gender[(df.gender=='F')&(df.no_show=='Yes')].count()"
   ]
  },
  {
   "cell_type": "code",
   "execution_count": 26,
   "id": "06a32926",
   "metadata": {},
   "outputs": [],
   "source": [
    "male_show=df.gender[(df.gender=='M')&(df.no_show=='No')].count()\n",
    "female_show=df.gender[(df.gender=='F')&(df.no_show=='No')].count()"
   ]
  },
  {
   "cell_type": "code",
   "execution_count": 27,
   "id": "42dfb52b",
   "metadata": {
    "scrolled": false
   },
   "outputs": [
    {
     "data": {
      "image/png": "[encoded data removed]",
      "text/plain": [
       "<Figure size 864x576 with 1 Axes>"
      ]
     },
     "metadata": {
      "needs_background": "light"
     },
     "output_type": "display_data"
    }
   ],
   "source": [
    "# setting parameters for the plot\n",
    "width=0.4\n",
    "my_locus=[\"Showed up\", \"did not show up\"]\n",
    "male=[male_show, male_noshow]\n",
    "female=[female_show, female_noshow]\n",
    "\n",
    "# Specifying where each bar should be plotted\n",
    "bar1=np.arange(len(my_locus))\n",
    "bar2=[i+width for i in bar1]\n",
    "\n",
    "# Adjusting the size of the plot\n",
    "plt.figure(figsize=(12,8))\n",
    "\n",
    "# The bars to plot\n",
    "plt.bar(my_locus,male,width,label='Male')\n",
    "plt.bar(bar2,female,width,label='female')\n",
    "\n",
    "# Naming the bar appropriately\n",
    "plt.xlabel('Appointment')\n",
    "plt.ylabel('Number of Male/Female')\n",
    "plt.title('Appointment Status by Gender')\n",
    "plt.xticks(bar1+width/2,my_locus)\n",
    "\n",
    "# inititalising the legend function and showing the plot altogether\n",
    "plt.legend()\n",
    "plt.show()"
   ]
  },
  {
   "cell_type": "markdown",
   "id": "52cc9d62",
   "metadata": {},
   "source": [
    "### Visualizing percentage of the people who has hypertension, diabetes, alcoholism, handicap, scholarship, and received sms but didn't show up for the appointment"
   ]
  },
  {
   "cell_type": "code",
   "execution_count": 28,
   "id": "ee5e01bb",
   "metadata": {},
   "outputs": [],
   "source": [
    "# number of persons who received sms and didnt show\n",
    "sms=df.loc[(df.sms_received==1)&(df.no_show=='Yes')].count()['no_show']\n",
    "\n",
    "# number of persons who received scholarship and didnt show\n",
    "scholarship=df.loc[(df.scholarship==1)&(df.no_show=='Yes')].count()['no_show']\n",
    "\n",
    "# number of persons who has hypertension and didnt show\n",
    "hypertension=df.loc[(df.hypertension==1)&(df.no_show=='Yes')].count()['no_show']\n",
    "\n",
    "# number of persons who has diabetes and didnt show\n",
    "diabetes=df.loc[(df.diabetes==1)&(df.no_show=='Yes')].count()['no_show']\n",
    "\n",
    "# number of persons who are alcoholic and didnt show\n",
    "alcoholism=df.loc[(df.alcoholism==1)&(df.no_show=='Yes')].count()['no_show']\n",
    "\n",
    "# number of persons who are handicapped and didnt show\n",
    "handicap=df.loc[(df.handicap==1)&(df.no_show=='Yes')].count()['no_show']\n",
    "\n",
    "\n",
    "#saving these counts as a list and naming them for the plot\n",
    "observations=['sms','scholarship','hypertension','diabetes','alcoholism','handicap']\n",
    "plots=[sms,scholarship,hypertension,diabetes,alcoholism,handicap]"
   ]
  },
  {
   "cell_type": "code",
   "execution_count": 29,
   "id": "9b774d85",
   "metadata": {
    "scrolled": true
   },
   "outputs": [
    {
     "data": {
      "image/png": "[encoded data removed]",
      "text/plain": [
       "<Figure size 504x504 with 1 Axes>"
      ]
     },
     "metadata": {},
     "output_type": "display_data"
    }
   ],
   "source": [
    "# adjusting figure size and showing the plot altogether\n",
    "plt.figure(figsize=(7,7))\n",
    "plt.pie(plots, labels=observations, autopct='%0.f%%', shadow=True, startangle=180)\n",
    "plt.show()"
   ]
  },
  {
   "cell_type": "markdown",
   "id": "67d5e254",
   "metadata": {},
   "source": [
    "#### From the figure above, we can deduce that more than half of those who received sms reminders still didn't show up for their appointment.\n",
    "#### About 14% of people didnt show up for their appointment despite having sponsorship on their medical bills"
   ]
  },
  {
   "cell_type": "markdown",
   "id": "d9e17543",
   "metadata": {},
   "source": [
    "# Limitations:"
   ]
  },
  {
   "cell_type": "code",
   "execution_count": 30,
   "id": "0438d2a4",
   "metadata": {},
   "outputs": [],
   "source": [
    "# 1. our dataset is limited, it doesn't capture other variable that might have contributed to the 'no show' for appointments.\n",
    "# factors like - patient might be too sick to get themselves to the hospital, \n",
    "#                children and aged ones might not be responsible for bringing themselves to the hospital\n",
    "\n",
    "# 2. Our dataset is skewed towards the female gender. Having a lot more female observation than male \n",
    "# makes all analysis done on gender skew to one side"
   ]
  },
  {
   "cell_type": "markdown",
   "id": "899c8cc0",
   "metadata": {},
   "source": [
    "# CONCLUSION"
   ]
  },
  {
   "cell_type": "markdown",
   "id": "05f6d0aa",
   "metadata": {},
   "source": [
    "# In conclusion:\n",
    "# Though we see that there isn't much difference in the percentage of missed appointments between Male(19.96%) and Female(20.31%),\n",
    "# We realise from this visualization that we have more Female than Male who showed up for their appointment,\n",
    "# as well as more Female than Male who did not show up for their appointment.\n",
    "\n",
    "# This is in coherence with the fact that in general, there are more Female observations than Male in this dataset.\n",
    "\n",
    "\n",
    "# Also from the pie chart, we realise that despite receiving sms reminders 53% of people still didn't honour their appointment"
   ]
  }
 ],
 "metadata": {
  "kernelspec": {
   "display_name": "Python 3 (ipykernel)",
   "language": "python",
   "name": "python3"
  },
  "language_info": {
   "codemirror_mode": {
    "name": "ipython",
    "version": 3
   },
   "file_extension": ".py",
   "mimetype": "text/x-python",
   "name": "python",
   "nbconvert_exporter": "python",
   "pygments_lexer": "ipython3",
   "version": "3.9.7"
  }
 },
 "nbformat": 4,
 "nbformat_minor": 5
}
